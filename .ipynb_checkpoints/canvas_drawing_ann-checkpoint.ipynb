{
 "cells": [
  {
   "cell_type": "markdown",
   "id": "e3da7bdf-5a0f-4492-a5fa-1eee85da1bd7",
   "metadata": {},
   "source": [
    "## <center>Sketch Recognition using Artificial Neural Networks<center> "
   ]
  },
  {
   "cell_type": "markdown",
   "id": "fd41e39f",
   "metadata": {},
   "source": [
    "## Import Necessary Libraries"
   ]
  },
  {
   "cell_type": "code",
   "execution_count": 22,
   "id": "60b815a7",
   "metadata": {},
   "outputs": [
    {
     "name": "stderr",
     "output_type": "stream",
     "text": [
      "c:\\users\\sabik\\appdata\\local\\programs\\python\\python38\\lib\\site-packages\\tqdm\\auto.py:22: TqdmWarning: IProgress not found. Please update jupyter and ipywidgets. See https://ipywidgets.readthedocs.io/en/stable/user_install.html\n",
      "  from .autonotebook import tqdm as notebook_tqdm\n"
     ]
    }
   ],
   "source": [
    "import glob\n",
    "import os\n",
    "import pandas as pd\n",
    "import numpy as np\n",
    "import matplotlib.pyplot as plt\n",
    "import sys\n",
    "import random\n",
    "import cv2\n",
    "import numpy as np\n",
    "import torch\n",
    "import torch.nn as nn\n",
    "import torch.nn.functional as F\n",
    "import torch.optim as optim\n",
    "import torchvision.transforms as transforms\n",
    "import torchvision\n",
    "from torch.utils.data import DataLoader,Dataset\n",
    "from tqdm.notebook import trange\n",
    "from sklearn import metrics\n",
    "from sklearn.metrics import classification_report, accuracy_score\n",
    "from sklearn.model_selection import train_test_split"
   ]
  },
  {
   "cell_type": "markdown",
   "id": "151686a2",
   "metadata": {},
   "source": [
    "## Analyze the Dataset"
   ]
  },
  {
   "cell_type": "code",
   "execution_count": 23,
   "id": "77409a16",
   "metadata": {},
   "outputs": [
    {
     "data": {
      "text/plain": [
       "['dataset\\\\0',\n",
       " 'dataset\\\\1',\n",
       " 'dataset\\\\2',\n",
       " 'dataset\\\\3',\n",
       " 'dataset\\\\4',\n",
       " 'dataset\\\\5',\n",
       " 'dataset\\\\6',\n",
       " 'dataset\\\\7',\n",
       " 'dataset\\\\8',\n",
       " 'dataset\\\\9']"
      ]
     },
     "execution_count": 23,
     "metadata": {},
     "output_type": "execute_result"
    }
   ],
   "source": [
    "folders = glob.glob('dataset/**')\n",
    "len(folders)\n",
    "folders"
   ]
  },
  {
   "cell_type": "code",
   "execution_count": 24,
   "id": "00598f02",
   "metadata": {},
   "outputs": [
    {
     "name": "stdout",
     "output_type": "stream",
     "text": [
      "Size of the dataset: 6616\n"
     ]
    }
   ],
   "source": [
    "files = glob.glob(\"dataset/**/*.jpg\") \n",
    "print(\"Size of the dataset: {}\".format(len(files)))"
   ]
  },
  {
   "cell_type": "code",
   "execution_count": 25,
   "id": "de41ee5c",
   "metadata": {},
   "outputs": [
    {
     "data": {
      "image/png": "[encoded data removed]",
      "text/plain": [
       "<Figure size 720x504 with 1 Axes>"
      ]
     },
     "metadata": {},
     "output_type": "display_data"
    }
   ],
   "source": [
    "lens = []\n",
    "for folder_path in folders:\n",
    "  files = glob.glob(os.path.join(folder_path, '*.jpg'))\n",
    "  lens.append(len(files))\n",
    "\n",
    "numbers = ['7', '2', '5', '8', '0', '3', '1', '4', '9', '6'] \n",
    "# Creating plot\n",
    "fig = plt.figure(figsize =(10, 7))\n",
    "plt.pie(lens, labels=numbers, startangle=90, autopct='%1.1f%%')\n",
    "plt.show()"
   ]
  },
  {
   "cell_type": "markdown",
   "id": "98db1d28",
   "metadata": {},
   "source": [
    "## Read the Data"
   ]
  },
  {
   "cell_type": "code",
   "execution_count": 26,
   "id": "ada1fe3b",
   "metadata": {},
   "outputs": [
    {
     "data": {
      "text/html": [
       "<div>\n",
       "<style scoped>\n",
       "    .dataframe tbody tr th:only-of-type {\n",
       "        vertical-align: middle;\n",
       "    }\n",
       "\n",
       "    .dataframe tbody tr th {\n",
       "        vertical-align: top;\n",
       "    }\n",
       "\n",
       "    .dataframe thead th {\n",
       "        text-align: right;\n",
       "    }\n",
       "</style>\n",
       "<table border=\"1\" class=\"dataframe\">\n",
       "  <thead>\n",
       "    <tr style=\"text-align: right;\">\n",
       "      <th></th>\n",
       "      <th>file</th>\n",
       "      <th>label</th>\n",
       "    </tr>\n",
       "  </thead>\n",
       "  <tbody>\n",
       "    <tr>\n",
       "      <th>0</th>\n",
       "      <td>dataset\\0\\0_BARG_10_1_384.jpg</td>\n",
       "      <td>0</td>\n",
       "    </tr>\n",
       "    <tr>\n",
       "      <th>1</th>\n",
       "      <td>dataset\\0\\0_BARI_13_1_385.jpg</td>\n",
       "      <td>0</td>\n",
       "    </tr>\n",
       "    <tr>\n",
       "      <th>2</th>\n",
       "      <td>dataset\\0\\0_BARI_13_1_386.jpg</td>\n",
       "      <td>0</td>\n",
       "    </tr>\n",
       "    <tr>\n",
       "      <th>3</th>\n",
       "      <td>dataset\\0\\0_BAR_15_1_419.jpg</td>\n",
       "      <td>0</td>\n",
       "    </tr>\n",
       "    <tr>\n",
       "      <th>4</th>\n",
       "      <td>dataset\\0\\0_BAR_15_1_420.jpg</td>\n",
       "      <td>0</td>\n",
       "    </tr>\n",
       "  </tbody>\n",
       "</table>\n",
       "</div>"
      ],
      "text/plain": [
       "                            file  label\n",
       "0  dataset\\0\\0_BARG_10_1_384.jpg      0\n",
       "1  dataset\\0\\0_BARI_13_1_385.jpg      0\n",
       "2  dataset\\0\\0_BARI_13_1_386.jpg      0\n",
       "3   dataset\\0\\0_BAR_15_1_419.jpg      0\n",
       "4   dataset\\0\\0_BAR_15_1_420.jpg      0"
      ]
     },
     "execution_count": 26,
     "metadata": {},
     "output_type": "execute_result"
    }
   ],
   "source": [
    "def read_data(data_dir='dataset'):\n",
    "    data = []\n",
    "    labels = []\n",
    "    for data_type in ['0', '1', '2', '3', '4', '5', '6', '7', '8', '9']:\n",
    "        digit = int(data_type[-1])\n",
    "        path = os.path.join(data_dir, data_type, '*.jpg')\n",
    "        files = glob.glob(path)\n",
    "        for f in files:\n",
    "            data.append(f)\n",
    "            labels.append(digit)\n",
    "    assert len(data) == len(labels), \"{}/{} Data size does not match labels size\".format(len(data), len(labels))\n",
    "    return data, labels\n",
    "\n",
    "\n",
    "source_dir = 'dataset'\n",
    "data, labels = read_data(source_dir)\n",
    "assert len(data) == len(labels), \"Number of image files do not match number of labels!\"\n",
    "\n",
    "df = pd.DataFrame(list(zip(data, labels)), columns =['file', 'label'])\n",
    "df.head()"
   ]
  },
  {
   "cell_type": "markdown",
   "id": "0939f55f",
   "metadata": {},
   "source": [
    "## Split Data into Train-Validation-Test Subsets"
   ]
  },
  {
   "cell_type": "code",
   "execution_count": 27,
   "id": "50e02b26",
   "metadata": {},
   "outputs": [
    {
     "name": "stdout",
     "output_type": "stream",
     "text": [
      "Total Training Examples: 4762\n",
      "Total Validation Examples: 530\n",
      "Total Test Examples: 1324\n"
     ]
    }
   ],
   "source": [
    "def split_data(df, tsize=0.2):\n",
    "    ''' Split the dataset into train-test subsets '''\n",
    "    train, test = train_test_split(df, test_size=tsize, shuffle=True, stratify=df.label, random_state=123)\n",
    "    train.reset_index(drop=True, inplace=True)\n",
    "    test.reset_index(drop=True, inplace=True)\n",
    "    return train, test\n",
    "\n",
    "train, test_subset = split_data(df, tsize=0.2)\n",
    "train_subset, val_subset = split_data(train, tsize=0.1)\n",
    "\n",
    "print(\"Total Training Examples: {}\".format(len(train_subset)))\n",
    "print(\"Total Validation Examples: {}\".format(len(val_subset)))\n",
    "print(\"Total Test Examples: {}\".format(len(test_subset)))"
   ]
  },
  {
   "cell_type": "markdown",
   "id": "9d4100f4",
   "metadata": {},
   "source": [
    "## Creating a Custom Dataset Class"
   ]
  },
  {
   "cell_type": "code",
   "execution_count": 28,
   "id": "46b96a37",
   "metadata": {},
   "outputs": [],
   "source": [
    "class BengaliDigitDataset(Dataset):\n",
    "    \n",
    "    def __init__(self, df, transform, width=28, height=28):\n",
    "        self.df = df\n",
    "        self.transform = transform\n",
    "        self.files = df['file']\n",
    "        self.labels = df['label']\n",
    "        self.width = width\n",
    "        self.height = height\n",
    "\n",
    "    def __len__(self):\n",
    "        return len(self.files)\n",
    "\n",
    "    def __getitem__(self, index):\n",
    "        img = cv2.imread(self.files.iloc[index], cv2.COLOR_BGR2RGB)\n",
    "        img = cv2.resize(img, dsize=(self.height, self.width), interpolation=cv2.INTER_AREA)\n",
    "        img = self.transform(img)\n",
    "        label = self.labels[index]\n",
    "        return img,label"
   ]
  },
  {
   "cell_type": "markdown",
   "id": "b30876b8",
   "metadata": {},
   "source": [
    "## Process the Data"
   ]
  },
  {
   "cell_type": "code",
   "execution_count": 29,
   "id": "ea5fb68b",
   "metadata": {},
   "outputs": [],
   "source": [
    "def prepocess_data(data_input, width, height):\n",
    "    transform = transforms.Compose([transforms.ToTensor(), transforms.Normalize((0.5,), (0.5,))])\n",
    "    data_processed = BengaliDigitDataset(data_input, transform, width, height)\n",
    "    return data_processed\n",
    "\n",
    "width = 28\n",
    "height = 28\n",
    "train_pr = prepocess_data(train_subset, width, height)\n",
    "val_pr = prepocess_data(val_subset, width, height)\n",
    "test_pr = prepocess_data(test_subset, width, height)"
   ]
  },
  {
   "cell_type": "code",
   "execution_count": 30,
   "id": "c6c0b9f1",
   "metadata": {},
   "outputs": [
    {
     "name": "stderr",
     "output_type": "stream",
     "text": [
      "Clipping input data to the valid range for imshow with RGB data ([0..1] for floats or [0..255] for integers).\n"
     ]
    },
    {
     "name": "stdout",
     "output_type": "stream",
     "text": [
      "torch.Size([3, 28, 28])\n",
      "4\n"
     ]
    },
    {
     "data": {
      "image/png": "[encoded data removed]",
      "text/plain": [
       "<Figure size 432x288 with 1 Axes>"
      ]
     },
     "metadata": {
      "needs_background": "light"
     },
     "output_type": "display_data"
    }
   ],
   "source": [
    "image, label = train_pr[0]\n",
    "\n",
    "print(image.shape) \n",
    "\n",
    "image = image.numpy().transpose((1, 2, 0))\n",
    "plt.imshow(image)\n",
    "\n",
    "print(label)"
   ]
  },
  {
   "cell_type": "markdown",
   "id": "a22231a7",
   "metadata": {},
   "source": [
    "## Load the Data"
   ]
  },
  {
   "cell_type": "code",
   "execution_count": 31,
   "id": "f7517d7a",
   "metadata": {},
   "outputs": [],
   "source": [
    "batch_size = 4000\n",
    "seed = 123\n",
    "random.seed(seed) \n",
    "torch.manual_seed(seed)\n",
    "torch.cuda.manual_seed(seed)\n",
    "\n",
    "train_dataloader = DataLoader(train_pr, batch_size, shuffle=True)\n",
    "val_dataloader = DataLoader(val_pr, batch_size, shuffle=False)\n",
    "test_dataloader = DataLoader(test_pr, batch_size, shuffle=False)"
   ]
  },
  {
   "cell_type": "markdown",
   "id": "c714c889",
   "metadata": {},
   "source": [
    "## Define the Model Architecture"
   ]
  },
  {
   "cell_type": "code",
   "execution_count": 32,
   "id": "1658415b",
   "metadata": {},
   "outputs": [],
   "source": [
    "class BengaliDigitClassifier(nn.Module):\n",
    "    def __init__(self, input_dim=2352, output_dim=10, hidden_1=32, hidden_2=32, dropout_frc=0.2):\n",
    "        super(BengaliDigitClassifier, self).__init__()\n",
    "        self.input_layer = nn.Linear(input_dim, hidden_1)\n",
    "        self.hidden_layer = nn.Linear(hidden_1, hidden_2)\n",
    "        self.output_layer = nn.Linear(hidden_2, output_dim)\n",
    "        self.dropout_layer = nn.Dropout(dropout_frc)\n",
    "    \n",
    "    def forward(self, x):\n",
    "        x = x.view(x.shape[0], -1)\n",
    "        h1 = F.relu(self.input_layer(x))\n",
    "        h1 = self.dropout_layer(h1)\n",
    "        h2 = F.relu(self.hidden_layer(h1))\n",
    "        h2 = self.dropout_layer(h2)\n",
    "        y_pred = self.output_layer(h2)\n",
    "        return y_pred"
   ]
  },
  {
   "cell_type": "markdown",
   "id": "955779f7",
   "metadata": {},
   "source": [
    "## Build the Model"
   ]
  },
  {
   "cell_type": "code",
   "execution_count": 33,
   "id": "b9f3130b",
   "metadata": {},
   "outputs": [
    {
     "name": "stdout",
     "output_type": "stream",
     "text": [
      "Using device cpu.\n",
      "\n",
      "BengaliDigitClassifier(\n",
      "  (input_layer): Linear(in_features=2352, out_features=32, bias=True)\n",
      "  (hidden_layer): Linear(in_features=32, out_features=32, bias=True)\n",
      "  (output_layer): Linear(in_features=32, out_features=10, bias=True)\n",
      "  (dropout_layer): Dropout(p=0.2, inplace=False)\n",
      ")\n"
     ]
    }
   ],
   "source": [
    "num_channels = 3\n",
    "num_classes = 10\n",
    "input_dim = int(num_channels * height * width)\n",
    "output_dim = int(num_classes)\n",
    "learning_rate = 0.003\n",
    "n_epochs = 20\n",
    "\n",
    "model = BengaliDigitClassifier(input_dim, output_dim)\n",
    "optimizer = optim.Adam(model.parameters(), lr=learning_rate)\n",
    "criterion = nn.CrossEntropyLoss() \n",
    "device = torch.device(\"cuda\" if torch.cuda.is_available() else \"cpu\") #train on gpu if available\n",
    "print(\"Using device {}.\\n\".format(device))\n",
    "model = model.to(device)\n",
    "criterion = criterion.to(device)\n",
    "    \n",
    "print(model)"
   ]
  },
  {
   "cell_type": "code",
   "execution_count": 34,
   "id": "31e05d1b",
   "metadata": {},
   "outputs": [
    {
     "name": "stdout",
     "output_type": "stream",
     "text": [
      "The model has total 76682 trainable parameters\n"
     ]
    }
   ],
   "source": [
    "def count_parameters(model):\n",
    "    return sum(p.numel() for p in model.parameters() if p.requires_grad)\n",
    "num_params = count_parameters(model)\n",
    "print(\"The model has total {} trainable parameters\".format(num_params))"
   ]
  },
  {
   "cell_type": "markdown",
   "id": "3387f71f",
   "metadata": {},
   "source": [
    "## Train the Model"
   ]
  },
  {
   "cell_type": "code",
   "execution_count": 35,
   "id": "7a927605",
   "metadata": {},
   "outputs": [],
   "source": [
    "def eval_metric(predictions, labels):\n",
    "    max_predictions = predictions.argmax(axis=1, keepdim=True) \n",
    "    avg_acc = round(accuracy_score(y_true=labels.to('cpu').tolist(), y_pred=max_predictions.detach().cpu().numpy()), 2)*100\n",
    "    return avg_acc\n",
    "\n",
    "def train_fn(model, train_loader, criterion, optimizer, device):\n",
    "    model.train() \n",
    "    total_loss, total_acc = 0, 0\n",
    "\n",
    "    for batch_x, batch_y in train_loader:\n",
    "        batch_x = batch_x.to(device)\n",
    "        batch_y = batch_y.to(device)\n",
    "        optimizer.zero_grad()\n",
    "        batch_y_pred = model(batch_x)\n",
    "        loss = criterion(batch_y_pred, batch_y)\n",
    "        loss.backward()\n",
    "        optimizer.step()\n",
    "        total_loss += loss.item()\n",
    "        total_acc += eval_metric(batch_y_pred, batch_y)\n",
    "    \n",
    "    loss_per_epoch = total_loss/len(train_loader)\n",
    "    acc_per_epoch = total_acc/len(train_loader)\n",
    "    return loss_per_epoch, acc_per_epoch\n",
    "\n",
    "def eval_fn(model, data_loader, criterion, device):\n",
    "    model.eval()\n",
    "    total_loss, total_acc = 0, 0\n",
    "    \n",
    "    with torch.no_grad():\n",
    "        for batch_x, batch_y in data_loader:\n",
    "            batch_x = batch_x.to(device)\n",
    "            batch_y = batch_y.to(device)\n",
    "            batch_y_pred = model(batch_x) \n",
    "            loss = criterion(batch_y_pred, batch_y) \n",
    "            total_loss += loss.item()\n",
    "            total_acc += eval_metric(batch_y_pred, batch_y)\n",
    "    \n",
    "    loss_per_epoch = total_loss/len(data_loader)\n",
    "    acc_per_epoch = total_acc/len(data_loader)\n",
    "    return loss_per_epoch, acc_per_epoch"
   ]
  },
  {
   "cell_type": "code",
   "execution_count": 36,
   "id": "07086253",
   "metadata": {},
   "outputs": [
    {
     "name": "stdout",
     "output_type": "stream",
     "text": [
      "Epoch: 0, Train Loss: 2.2954, Train Accuracy: 13.00%\n",
      "Epoch: 0, Validation Loss: 2.1172, Validation Accuracy: 21.00%\n",
      "\n",
      "Epoch: 1, Train Loss: 2.0568, Train Accuracy: 26.00%\n",
      "Epoch: 1, Validation Loss: 1.8364, Validation Accuracy: 40.00%\n",
      "\n",
      "Epoch: 2, Train Loss: 1.8374, Train Accuracy: 35.50%\n",
      "Epoch: 2, Validation Loss: 1.6094, Validation Accuracy: 53.00%\n",
      "\n",
      "Epoch: 3, Train Loss: 1.6437, Train Accuracy: 43.50%\n",
      "Epoch: 3, Validation Loss: 1.3867, Validation Accuracy: 62.00%\n",
      "\n",
      "Epoch: 4, Train Loss: 1.4754, Train Accuracy: 50.00%\n",
      "Epoch: 4, Validation Loss: 1.1946, Validation Accuracy: 68.00%\n",
      "\n",
      "Epoch: 5, Train Loss: 1.3280, Train Accuracy: 57.50%\n",
      "Epoch: 5, Validation Loss: 1.0457, Validation Accuracy: 69.00%\n",
      "\n",
      "Epoch: 6, Train Loss: 1.2051, Train Accuracy: 60.00%\n",
      "Epoch: 6, Validation Loss: 0.9307, Validation Accuracy: 72.00%\n",
      "\n",
      "Epoch: 7, Train Loss: 1.1169, Train Accuracy: 64.50%\n",
      "Epoch: 7, Validation Loss: 0.8548, Validation Accuracy: 75.00%\n",
      "\n",
      "Epoch: 8, Train Loss: 1.0280, Train Accuracy: 65.50%\n",
      "Epoch: 8, Validation Loss: 0.7996, Validation Accuracy: 75.00%\n",
      "\n",
      "Epoch: 9, Train Loss: 0.9237, Train Accuracy: 69.00%\n",
      "Epoch: 9, Validation Loss: 0.7431, Validation Accuracy: 76.00%\n",
      "\n",
      "Epoch: 10, Train Loss: 0.8949, Train Accuracy: 69.00%\n",
      "Epoch: 10, Validation Loss: 0.6964, Validation Accuracy: 78.00%\n",
      "\n",
      "Epoch: 11, Train Loss: 0.8548, Train Accuracy: 71.50%\n",
      "Epoch: 11, Validation Loss: 0.6721, Validation Accuracy: 78.00%\n",
      "\n",
      "Epoch: 12, Train Loss: 0.8101, Train Accuracy: 71.50%\n",
      "Epoch: 12, Validation Loss: 0.6575, Validation Accuracy: 78.00%\n",
      "\n",
      "Epoch: 13, Train Loss: 0.7801, Train Accuracy: 72.50%\n",
      "Epoch: 13, Validation Loss: 0.6322, Validation Accuracy: 79.00%\n",
      "\n",
      "Epoch: 14, Train Loss: 0.7552, Train Accuracy: 74.50%\n",
      "Epoch: 14, Validation Loss: 0.6120, Validation Accuracy: 79.00%\n",
      "\n",
      "Epoch: 15, Train Loss: 0.7359, Train Accuracy: 74.50%\n",
      "Epoch: 15, Validation Loss: 0.5977, Validation Accuracy: 80.00%\n",
      "\n",
      "Epoch: 16, Train Loss: 0.7105, Train Accuracy: 75.00%\n",
      "Epoch: 16, Validation Loss: 0.5974, Validation Accuracy: 82.00%\n",
      "\n",
      "Epoch: 17, Train Loss: 0.7047, Train Accuracy: 75.50%\n",
      "Epoch: 17, Validation Loss: 0.5996, Validation Accuracy: 81.00%\n",
      "\n",
      "Epoch: 18, Train Loss: 0.6604, Train Accuracy: 77.50%\n",
      "Epoch: 18, Validation Loss: 0.5975, Validation Accuracy: 80.00%\n",
      "\n",
      "Epoch: 19, Train Loss: 0.6705, Train Accuracy: 76.00%\n",
      "Epoch: 19, Validation Loss: 0.5877, Validation Accuracy: 80.00%\n",
      "\n"
     ]
    }
   ],
   "source": [
    "train_losses, validation_losses = [], []\n",
    "train_accuracies, validation_accuracies = [], []\n",
    "best_val_loss = float('inf')\n",
    "\n",
    "for epoch in range(n_epochs):\n",
    "    \n",
    "    train_loss_per_epoch, train_acc_per_epoch = train_fn(model, train_dataloader, criterion, optimizer, device)\n",
    "    val_loss_per_epoch, val_acc_per_epoch = eval_fn(model, val_dataloader, criterion, device)\n",
    "\n",
    "    train_losses.append(train_loss_per_epoch)\n",
    "    validation_losses.append(val_loss_per_epoch)\n",
    "    train_accuracies.append(train_acc_per_epoch)\n",
    "    validation_accuracies.append(val_acc_per_epoch)\n",
    "\n",
    "    if val_loss_per_epoch < best_val_loss:\n",
    "        best_val_loss = val_loss_per_epoch\n",
    "        torch.save(model.state_dict(), 'digits_recognition.pt')\n",
    "\n",
    "    print(\"Epoch: {}, Train Loss: {:.4f}, Train Accuracy: {:.2f}%\".format(epoch, train_loss_per_epoch, train_acc_per_epoch))\n",
    "    print(\"Epoch: {}, Validation Loss: {:.4f}, Validation Accuracy: {:.2f}%\\n\".format(epoch, val_loss_per_epoch, val_acc_per_epoch))"
   ]
  },
  {
   "cell_type": "markdown",
   "id": "d257d408",
   "metadata": {},
   "source": [
    "## Plot Training and Validation Losses over all Epochs"
   ]
  },
  {
   "cell_type": "code",
   "execution_count": 37,
   "id": "4bf5dae3",
   "metadata": {},
   "outputs": [
    {
     "data": {
      "image/png": "[encoded data removed]",
      "text/plain": [
       "<Figure size 432x288 with 1 Axes>"
      ]
     },
     "metadata": {
      "needs_background": "light"
     },
     "output_type": "display_data"
    }
   ],
   "source": [
    "epochs = range(1, n_epochs+1)\n",
    "plt.plot(epochs, train_losses, 'g', label='Training loss')\n",
    "plt.plot(epochs, validation_losses, 'b', label='Validation loss')\n",
    "plt.title('Training and Validation loss')\n",
    "plt.xlabel('Epochs')\n",
    "plt.ylabel('Loss')\n",
    "plt.legend()\n",
    "plt.show()"
   ]
  },
  {
   "cell_type": "markdown",
   "id": "2abfd7bf",
   "metadata": {},
   "source": [
    "## Plot Training and Validation Accuracies over all Epochs"
   ]
  },
  {
   "cell_type": "code",
   "execution_count": 38,
   "id": "c1e20b16",
   "metadata": {},
   "outputs": [
    {
     "data": {
      "image/png": "[encoded data removed]",
      "text/plain": [
       "<Figure size 432x288 with 1 Axes>"
      ]
     },
     "metadata": {
      "needs_background": "light"
     },
     "output_type": "display_data"
    }
   ],
   "source": [
    "epochs = range(1, n_epochs+1)\n",
    "plt.plot(epochs, train_accuracies, 'r', label='Train Accuracy')\n",
    "plt.plot(epochs, validation_accuracies, 'm', label='Validation Accuracy')\n",
    "plt.title('Average Accuracy')\n",
    "plt.xlabel('Epochs')\n",
    "plt.ylabel('Accuracy')\n",
    "plt.legend()\n",
    "plt.show()"
   ]
  },
  {
   "cell_type": "markdown",
   "id": "fc1447e7",
   "metadata": {},
   "source": [
    "## Evaluate the Model on Test Data"
   ]
  },
  {
   "cell_type": "code",
   "execution_count": 39,
   "id": "adf7da2c",
   "metadata": {},
   "outputs": [
    {
     "name": "stdout",
     "output_type": "stream",
     "text": [
      "Test Loss: 0.5808, Test Accuracy: 81.00%\n"
     ]
    }
   ],
   "source": [
    "model.load_state_dict(torch.load('digits_recognition.pt'))\n",
    "test_loss, test_accuracy = eval_fn(model, test_dataloader, criterion, device)\n",
    "print(\"Test Loss: {:.4f}, Test Accuracy: {:.2f}%\".format(test_loss, test_accuracy))"
   ]
  },
  {
   "cell_type": "markdown",
   "id": "62d9be4c",
   "metadata": {},
   "source": [
    "## Confusion Matrix"
   ]
  },
  {
   "cell_type": "code",
   "execution_count": 40,
   "id": "9d2ae125",
   "metadata": {},
   "outputs": [
    {
     "data": {
      "image/png": "[encoded data removed]",
      "text/plain": [
       "<Figure size 576x576 with 2 Axes>"
      ]
     },
     "metadata": {
      "needs_background": "light"
     },
     "output_type": "display_data"
    }
   ],
   "source": [
    "def predict(model, data_loader, device):\n",
    "    model.eval()\n",
    "    probs, labels = [], []   \n",
    "    with torch.no_grad():\n",
    "        for batch_x, batch_y in data_loader:\n",
    "            batch_x = batch_x.to(device)\n",
    "            batch_y = batch_y.to(device)    \n",
    "            batch_y_pred = model(batch_x)\n",
    "            batch_y_prob = F.softmax(input=batch_y_pred, dim=-1)\n",
    "            max_prob = batch_y_prob.argmax(axis=1, keepdim=True)\n",
    "            max_prob = torch.squeeze(max_prob)\n",
    "            probs.append(max_prob.detach().cpu().numpy())\n",
    "            labels.append(batch_y.to('cpu').tolist())  \n",
    "    return np.concatenate(probs, axis=0), np.concatenate(labels, axis=0)\n",
    "\n",
    "def plot(predictions, labels):\n",
    "    fig = plt.figure(figsize=(8, 8))\n",
    "    ax = fig.add_subplot(1, 1, 1)\n",
    "    cm = metrics.confusion_matrix(labels, predictions)\n",
    "    cm = metrics.ConfusionMatrixDisplay(cm, display_labels=range(10))\n",
    "    cm.plot(values_format='d', cmap='Greens', ax=ax)\n",
    "    \n",
    "\n",
    "predictions, labels = predict(model, test_dataloader, device)\n",
    "plot(predictions, labels)"
   ]
  }
 ],
 "metadata": {
  "kernelspec": {
   "display_name": "Python 3 (ipykernel)",
   "language": "python",
   "name": "python3"
  },
  "language_info": {
   "codemirror_mode": {
    "name": "ipython",
    "version": 3
   },
   "file_extension": ".py",
   "mimetype": "text/x-python",
   "name": "python",
   "nbconvert_exporter": "python",
   "pygments_lexer": "ipython3",
   "version": "3.8.5"
  }
 },
 "nbformat": 4,
 "nbformat_minor": 5
}
